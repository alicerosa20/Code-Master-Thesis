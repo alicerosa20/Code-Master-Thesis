{
 "cells": [
  {
   "cell_type": "code",
   "execution_count": 10,
   "metadata": {},
   "outputs": [],
   "source": [
    "import raster_geometry as rg\n",
    "import numpy as np\n",
    "from numpy.random import randint\n",
    "import random\n",
    "from tifffile import imread, imsave, imwrite\n",
    "from scipy.ndimage import rotate\n",
    "import os\n",
    "import random\n",
    "from skimage.draw import ellipse\n",
    "from volumentations import *\n",
    "from matplotlib import pyplot"
   ]
  },
  {
   "cell_type": "code",
   "execution_count": 11,
   "metadata": {
    "colab": {
     "base_uri": "https://localhost:8080/"
    },
    "executionInfo": {
     "elapsed": 26902,
     "status": "ok",
     "timestamp": 1656599871767,
     "user": {
      "displayName": "Alice Henriques da Rosa",
      "userId": "12243278505695630565"
     },
     "user_tz": -60
    },
    "id": "y_-eAIvjvUXm",
    "outputId": "b448627e-93c8-45d3-fe93-03fcdc34914c"
   },
   "outputs": [],
   "source": [
    "def get_augmentation(patch_size):\n",
    "    return Compose([\n",
    "        ElasticTransform((0.75, 0.75), interpolation=2, p=1.0)\n",
    "], p=1.0)\n",
    "\n",
    "def get_synthetic_masks(n_size, n):\n",
    "    \n",
    "    n_masks = n\n",
    "    \n",
    "    for j in range(n_masks):\n",
    "        size = n_size[j]\n",
    "        mask = np.zeros((size[0]+128,size[1]+128,size[2],size[3]))\n",
    "        n_pairs = randint(45,70)\n",
    "        #n_pairs = 1\n",
    "        n_solo_golgi = randint(2,6)\n",
    "        n_solo_nuclei = randint(1,4)\n",
    "        \n",
    "        for i in range(n_pairs):\n",
    "            x_pos = randint(0, size[0])\n",
    "            y_pos = randint(0, size[1])\n",
    "            # Create a nuclei/golgi pair\n",
    "            pair = np.zeros((128,128,size[2],3),dtype=np.uint8)\n",
    "            rot_image = np.zeros((128,128,size[2],3),dtype=np.uint8)\n",
    "            #random size\n",
    "            sphere_size = randint(5,9)\n",
    "            pair[:,:,:,0] = rg.sphere((128,128,size[2]), sphere_size)\n",
    "            #random size\n",
    "            nuclei_size = randint(16,30)\n",
    "            nuclei_side_2 = randint(8, 12)\n",
    "            nuclei_side_3 = randint(8, 12)\n",
    "            pos = round(random.uniform(0.40, 0.60), 2)\n",
    "            pair[:,:,:,1] = rg.ellipsoid((128,128,size[2]),(nuclei_size,nuclei_side_2,nuclei_side_3), position=pos)\n",
    "\n",
    "            aug = get_augmentation((128,128,size[2])) \n",
    "            \n",
    "            #pair = pair*255.\n",
    "            # with mask\n",
    "            data = {'image': pair, 'mask': pair}\n",
    "            aug_data = aug(**data)\n",
    "            img, lbl = aug_data['image'], aug_data['mask']\n",
    "            lbl = lbl.astype(np.uint8)\n",
    "\n",
    "            #rotate the pair randomly\n",
    "            angle = randint(0, 180)\n",
    "\n",
    "            rot_image = (rotate(lbl, angle, mode='constant', reshape=False))\n",
    "            rot_image = (rot_image/np.max(rot_image))\n",
    "            \n",
    "            mask[x_pos:x_pos+128, y_pos:y_pos+128, :, 0] = np.array(np.logical_or(mask[x_pos:x_pos+128, y_pos:y_pos+128, :, 0], rot_image[:,:,:,0]))\n",
    "            mask[x_pos:x_pos+128, y_pos:y_pos+128, :, 1] = np.array(np.logical_or(mask[x_pos:x_pos+128, y_pos:y_pos+128, :, 1], rot_image[:,:,:,1]))\n",
    "            mask[x_pos:x_pos+128, y_pos:y_pos+128, :, 2] = np.array(np.logical_or(mask[x_pos:x_pos+128, y_pos:y_pos+128, :, 0], mask[x_pos:x_pos+128, y_pos:y_pos+128, :, 1]))\n",
    "        \n",
    "        for k in range(n_solo_golgi): \n",
    "            sphere_size = randint(5,9)\n",
    "            solo = np.zeros((128,128,size[2],3),dtype=np.uint8)\n",
    "            solo[:,:,:,0] = rg.sphere((128,128,size[2]), sphere_size)\n",
    "            \n",
    "            is_all_zeros = False\n",
    "            while not(is_all_zeros):\n",
    "                x_pos = randint(0, size[0])\n",
    "                y_pos = randint(0, size[1])\n",
    "                patch = np.array(np.logical_and(mask[x_pos:x_pos+128, y_pos:y_pos+128, :, :], solo))\n",
    "                is_all_zeros = np.all((patch == 0))\n",
    "                #print('im here')\n",
    "\n",
    "            mask[x_pos:x_pos+128, y_pos:y_pos+128, :, 0] = np.array(np.logical_or(mask[x_pos:x_pos+128, y_pos:y_pos+128, :, 0], solo[:,:,:,0]))\n",
    "        \n",
    "        for n in range(n_solo_nuclei): \n",
    "            nuclei_size = randint(16,30)\n",
    "            nuclei_side_2 = randint(8, 12)\n",
    "            nuclei_side_3 = randint(8, 12)\n",
    "            pos = round(random.uniform(0.40, 0.60), 2)\n",
    "            solo = np.zeros((128,128,size[2],3),dtype=np.uint8)\n",
    "            solo[:,:,:,1] = rg.ellipsoid((128,128,size[2]),(nuclei_size,nuclei_side_2,nuclei_side_3), position=pos)\n",
    "            \n",
    "            is_all_zeros = False\n",
    "            while not(is_all_zeros):\n",
    "                x_pos = randint(0, size[0])\n",
    "                y_pos = randint(0, size[1])\n",
    "                patch = np.array(np.logical_and(mask[x_pos:x_pos+128, y_pos:y_pos+128, :, :], solo))\n",
    "                is_all_zeros = np.all((patch == 0))\n",
    "                #print('im here')\n",
    "\n",
    "            mask[x_pos:x_pos+128, y_pos:y_pos+128, :, 1] = np.array(np.logical_or(mask[x_pos:x_pos+128, y_pos:y_pos+128, :, 1], solo[:,:,:,1]))\n",
    "        \n",
    "        _mask = np.zeros(size)\n",
    "        _mask = mask[64:size[0]+64,64:size[1]+64,:,:]\n",
    "        _mask = _mask*255.0\n",
    "        _mask = _mask.astype('uint8')\n",
    "\n",
    "        imwrite('./Dataset_3/synthetic_masks/' + '/Crop' + str(j+1) + '.tif' , _mask, photometric='rgb')"
   ]
  },
  {
   "cell_type": "code",
   "execution_count": 12,
   "metadata": {},
   "outputs": [],
   "source": [
    "get_synthetic_masks([(505,618,56,3),(703,553,56,3),(668,553,56,3),(818,257,56,3),(647,627,56,3),(586,519,61,3)], 6)"
   ]
  },
  {
   "cell_type": "code",
   "execution_count": 17,
   "metadata": {
    "colab": {
     "base_uri": "https://localhost:8080/",
     "height": 536
    },
    "executionInfo": {
     "elapsed": 1057,
     "status": "ok",
     "timestamp": 1656599915961,
     "user": {
      "displayName": "Alice Henriques da Rosa",
      "userId": "12243278505695630565"
     },
     "user_tz": -60
    },
    "id": "aBKijjwjjWne",
    "outputId": "ed87c063-c4e4-42dd-cdaa-eccea9408677"
   },
   "outputs": [
    {
     "data": {
      "text/plain": [
       "<matplotlib.image.AxesImage at 0x7f08975dcb80>"
      ]
     },
     "execution_count": 17,
     "metadata": {},
     "output_type": "execute_result"
    },
    {
     "data": {
      "image/png": "[encoded data removed]",
      "text/plain": [
       "<Figure size 432x288 with 1 Axes>"
      ]
     },
     "metadata": {
      "needs_background": "light"
     },
     "output_type": "display_data"
    },
    {
     "data": {
      "image/png": "[encoded data removed]",
      "text/plain": [
       "<Figure size 432x288 with 1 Axes>"
      ]
     },
     "metadata": {
      "needs_background": "light"
     },
     "output_type": "display_data"
    }
   ],
   "source": [
    "from matplotlib import pyplot\n",
    "#rot[x_pos:x_pos+64, y_pos:y_pos+64, :, 0]\n",
    "mask = imread('./Dataset_3/synthetic_masks/Crop4.tif')\n",
    "pyplot.imshow(mask[:, :, 25, :]/255.)\n",
    "\n",
    "mask_ = imread('./Dataset_3/Masks/Crop1.tif')\n",
    "pyplot.figure()\n",
    "pyplot.imshow(mask_[:, :, 25, :]/255.)"
   ]
  },
  {
   "cell_type": "code",
   "execution_count": null,
   "metadata": {},
   "outputs": [],
   "source": []
  }
 ],
 "metadata": {
  "colab": {
   "authorship_tag": "ABX9TyOGVHJWXrK05k9eqx9W+pdq",
   "name": "generate_masks.ipynb",
   "provenance": []
  },
  "gpuClass": "standard",
  "kernelspec": {
   "display_name": "Python 3 (ipykernel)",
   "language": "python",
   "name": "python3"
  },
  "language_info": {
   "codemirror_mode": {
    "name": "ipython",
    "version": 3
   },
   "file_extension": ".py",
   "mimetype": "text/x-python",
   "name": "python",
   "nbconvert_exporter": "python",
   "pygments_lexer": "ipython3",
   "version": "3.9.10"
  }
 },
 "nbformat": 4,
 "nbformat_minor": 4
}
