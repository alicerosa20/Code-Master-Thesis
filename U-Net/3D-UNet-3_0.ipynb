{
 "cells": [
  {
   "cell_type": "code",
   "execution_count": 1,
   "metadata": {
    "executionInfo": {
     "elapsed": 3753,
     "status": "ok",
     "timestamp": 1658152021414,
     "user": {
      "displayName": "Alice Henriques da Rosa",
      "userId": "12243278505695630565"
     },
     "user_tz": -60
    },
    "id": "eQ5pQO1zHOPL"
   },
   "outputs": [],
   "source": [
    "from skimage import io\n",
    "from patchify import patchify, unpatchify\n",
    "import numpy as np\n",
    "from matplotlib import pyplot as plt\n",
    "from tifffile import imread, imsave, imwrite\n",
    "import math\n",
    "from PIL import Image\n",
    "import os, shutil\n",
    "import tensorflow as tf\n",
    "from keras.models import Model\n",
    "from keras.layers import Input, Conv3D, MaxPooling3D, UpSampling3D, concatenate, Conv3DTranspose, BatchNormalization, Dropout, Lambda\n",
    "from tensorflow.keras.optimizers import Adam\n",
    "from keras.layers import Activation, MaxPool2D, Concatenate\n",
    "from skimage import io\n",
    "import numpy as np\n",
    "from matplotlib import pyplot as plt\n",
    "from keras import backend as K\n",
    "from tensorflow.keras.utils import to_categorical\n",
    "from sklearn.model_selection import train_test_split\n",
    "from tifffile import imread\n",
    "import math\n",
    "import xlwt\n",
    "from xlwt import Workbook\n",
    "from torch.nn import ReflectionPad3d\n",
    "import torch\n",
    "from matplotlib.pyplot import imshow\n",
    "from keras.callbacks import ModelCheckpoint\n",
    "from focal_loss import BinaryFocalLoss\n",
    "import torch\n",
    "from tensorflow.python.ops.numpy_ops import np_config\n",
    "np_config.enable_numpy_behavior()\n",
    "from keras.layers.merge import Concatenate"
   ]
  },
  {
   "cell_type": "markdown",
   "metadata": {
    "id": "VwaQQzuolLUu",
    "tags": []
   },
   "source": [
    "# Prepare Train, Validation and Test Set"
   ]
  },
  {
   "cell_type": "code",
   "execution_count": 10,
   "metadata": {
    "id": "jEuy4jqFlW7j"
   },
   "outputs": [],
   "source": [
    "def patchify_rgb(image, patch_size=(64,64,32), step=32):\n",
    "    \n",
    "    img_patches_R = patchify(image[:,:,:,0], patch_size, step=step)\n",
    "    input_img_R = np.reshape(img_patches_R, (-1, img_patches_R.shape[3], img_patches_R.shape[4], img_patches_R.shape[5]))\n",
    "\n",
    "    img_patches_G = patchify(image[:,:,:,1], patch_size, step=step) \n",
    "    input_img_G = np.reshape(img_patches_G, (-1, img_patches_G.shape[3], img_patches_G.shape[4], img_patches_G.shape[5]))\n",
    "    \n",
    "    if image.shape[3] == 3:\n",
    "      img_patches_B = patchify(image[:,:,:,2], patch_size, step=step)\n",
    "      input_img_B = np.reshape(img_patches_B, (-1, img_patches_B.shape[3], img_patches_B.shape[4], img_patches_B.shape[5]))\n",
    "      img_patches_rgb = np.stack((input_img_R,input_img_G,input_img_B), axis=-1)\n",
    "    else:\n",
    "      img_patches_rgb = np.stack((input_img_R,input_img_G), axis=-1)\n",
    "    \n",
    "    return img_patches_rgb"
   ]
  },
  {
   "cell_type": "code",
   "execution_count": 11,
   "metadata": {
    "id": "rHC36_bNlbTH"
   },
   "outputs": [],
   "source": [
    "def rgb_to_label(mask):\n",
    "      \n",
    "    label_mask = np.stack((mask[:,:,:,0],mask[:,:,:,1]), axis=-1)\n",
    "    \n",
    "    return label_mask"
   ]
  },
  {
   "cell_type": "code",
   "execution_count": 12,
   "metadata": {
    "id": "wtsz8Qjcldd5"
   },
   "outputs": [],
   "source": [
    "def padding(image,size):\n",
    "\n",
    "    img_reshape = np.moveaxis(image, -1, 0)\n",
    "    \n",
    "    m = ReflectionPad3d((0,size[2]-image.shape[2],0,size[1]-image.shape[1],0,size[0]-image.shape[0]))\n",
    "    input = torch.tensor(img_reshape, dtype=torch.float)\n",
    "    output = m(input)\n",
    "    pad_img = output.numpy()\n",
    "    pad_img = np.moveaxis(pad_img, 0, -1)\n",
    "    \n",
    "    return pad_img"
   ]
  },
  {
   "cell_type": "code",
   "execution_count": 13,
   "metadata": {
    "id": "Z9E_13f23qZR"
   },
   "outputs": [],
   "source": [
    "def dir_setup(patches_dir):\n",
    "  \n",
    "  \n",
    "  train_dir = os.path.join(patches_dir, 'Train')\n",
    "  if os.path.exists(train_dir)==False:\n",
    "        os.mkdir(train_dir)\n",
    "\n",
    "  train_dir_img = os.path.join(train_dir, 'Images')\n",
    "  if os.path.exists(train_dir_img)==False:\n",
    "        os.mkdir(train_dir_img)\n",
    "\n",
    "  train_dir_mask = os.path.join(train_dir, 'Masks')\n",
    "  if os.path.exists(train_dir_mask)==False:\n",
    "        os.mkdir(train_dir_mask)\n",
    "\n",
    "  val_dir = os.path.join(patches_dir, 'Validation')\n",
    "  if os.path.exists(val_dir)==False:\n",
    "        os.mkdir(val_dir)\n",
    "\n",
    "  val_dir_img = os.path.join(val_dir, 'Images')\n",
    "  if os.path.exists(val_dir_img)==False:\n",
    "        os.mkdir(val_dir_img)\n",
    "\n",
    "  val_dir_mask = os.path.join(val_dir, 'Masks')\n",
    "  if os.path.exists(val_dir_mask)==False:\n",
    "        os.mkdir(val_dir_mask)\n",
    "\n",
    "  tst_dir = os.path.join(patches_dir, 'Test')\n",
    "  if os.path.exists(tst_dir)==False:\n",
    "        os.mkdir(tst_dir)\n",
    "\n",
    "  tst_dir_img = os.path.join(tst_dir, 'Images')\n",
    "  if os.path.exists(tst_dir_img)==False:\n",
    "        os.mkdir(tst_dir_img)\n",
    "\n",
    "  tst_dir_mask = os.path.join(tst_dir, 'Masks')\n",
    "  if os.path.exists(tst_dir_mask)==False:\n",
    "        os.mkdir(tst_dir_mask)\n",
    "\n",
    "  return [train_dir_img, train_dir_mask, val_dir_img, val_dir_mask, tst_dir_img, tst_dir_mask]"
   ]
  },
  {
   "cell_type": "code",
   "execution_count": 14,
   "metadata": {
    "id": "dtKSVwcRlrVS"
   },
   "outputs": [],
   "source": [
    "def train_validation_test_setup(img_dir, mask_dir, patches_dir):\n",
    "\n",
    "  img_name = os.listdir(img_dir)\n",
    "\n",
    "  #train, validate, test = np.split(img_name, [int(len(img_name)*0.6), int(len(img_name)*0.8)])\n",
    "  train = [\"Crop1.tif\", \"Crop2.tif\", \"Crop3.tif\", \"Crop8_BC.tif\"]\n",
    "  validate = [\"Crop4.tif\", \"Crop6_BC.tif\"]\n",
    "  test = [\"Crop5_BC.tif\", \"Crop7_BC.tif\"]\n",
    "\n",
    "  n_train = len(train)\n",
    "  n_validation = len(validate)\n",
    "  n_test = len(test)\n",
    "\n",
    "  [train_dir_img, train_dir_mask, val_dir_img, val_dir_mask, tst_dir_img, tst_dir_mask] = dir_setup(patches_dir)\n",
    "\n",
    "  for i in range(n_train):\n",
    "    image = imread(img_dir + train[i])\n",
    "    mask = imread(mask_dir + train[i])\n",
    "\n",
    "    image = padding(image, (image.shape[0], image.shape[1], 64, image.shape[3]))\n",
    "    mask = padding(mask, (mask.shape[0], mask.shape[1], 64, mask.shape[3]))\n",
    "\n",
    "    # normalize data\n",
    "    nor_image = image / 255.\n",
    "    nor_mask = mask / 255.\n",
    "\n",
    "    # labeling data\n",
    "    #label_mask = rgb_to_label(nor_mask)\n",
    "\n",
    "    img_patches = patchify_rgb(nor_image,(64,64,64),48)\n",
    "    mask_patches = patchify_rgb(nor_mask,(64,64,64),48)\n",
    "\n",
    "    for p in range(img_patches.shape[0]):\n",
    "      imwrite(train_dir_img + '/img_patch_' + str(i+1) + str(p) + '.tif', img_patches[p,:,:,:])\n",
    "\n",
    "    for k in range(mask_patches.shape[0]):\n",
    "      imwrite(train_dir_mask + '/img_patch_' + str(i+1) + str(k) + '.tif', mask_patches[k,:,:,:])\n",
    "\n",
    "\n",
    "  for j in range(n_validation):\n",
    "    image = imread(img_dir + validate[j])\n",
    "    mask = imread(mask_dir + validate[j])\n",
    "\n",
    "    image = padding(image, (image.shape[0], image.shape[1], 64, image.shape[3]))\n",
    "    mask = padding(mask, (mask.shape[0], mask.shape[1], 64, mask.shape[3]))\n",
    "\n",
    "    # normalize data\n",
    "    nor_image = image / 255.\n",
    "    nor_mask = mask / 255.\n",
    "\n",
    "    # labeling data\n",
    "    #label_mask = rgb_to_label(nor_mask)\n",
    "\n",
    "    img_patches = patchify_rgb(nor_image,(64,64,64),48)\n",
    "    mask_patches = patchify_rgb(nor_mask,(64,64,64),48)\n",
    "\n",
    "    for p in range(img_patches.shape[0]):\n",
    "      imwrite(val_dir_img + '/img_patch_' + str(j+1) + str(p) + '.tif', img_patches[p,:,:,:])\n",
    "\n",
    "    for k in range(mask_patches.shape[0]):\n",
    "      imwrite(val_dir_mask + '/img_patch_' + str(j+1) + str(k) + '.tif', mask_patches[k,:,:,:])\n",
    "\n",
    "\n",
    "  for fname in test:\n",
    "    src_img = os.path.join(img_dir, fname)\n",
    "    dst_img = os.path.join(tst_dir_img, fname)\n",
    "    shutil.copyfile(src_img, dst_img)\n",
    "\n",
    "    src_mask = os.path.join(mask_dir, fname)\n",
    "    dst_mask = os.path.join(tst_dir_mask, fname)\n",
    "    shutil.copyfile(src_mask, dst_mask)\n",
    "    \n",
    "\n",
    "\n"
   ]
  },
  {
   "cell_type": "code",
   "execution_count": 15,
   "metadata": {
    "id": "QCMSTHGEnMBf"
   },
   "outputs": [],
   "source": [
    "img_dir = './Dataset_3/Images_Pre/'\n",
    "mask_dir = './Dataset_3/Masks/'\n",
    "patches_dir = './Dataset_3/Patches_64/'\n",
    "train_validation_test_setup(img_dir, mask_dir, patches_dir)"
   ]
  },
  {
   "cell_type": "code",
   "execution_count": 16,
   "metadata": {},
   "outputs": [
    {
     "name": "stdout",
     "output_type": "stream",
     "text": [
      "(64, 64, 64, 3)\n"
     ]
    },
    {
     "data": {
      "image/png": "[encoded data removed]",
      "text/plain": [
       "<Figure size 432x288 with 1 Axes>"
      ]
     },
     "metadata": {
      "needs_background": "light"
     },
     "output_type": "display_data"
    },
    {
     "data": {
      "image/png": "[encoded data removed]",
      "text/plain": [
       "<Figure size 432x288 with 1 Axes>"
      ]
     },
     "metadata": {
      "needs_background": "light"
     },
     "output_type": "display_data"
    }
   ],
   "source": [
    "a = imread('./Dataset_3/Patches_64/Train/Images/img_patch_4107.tif')\n",
    "plt.figure(1)\n",
    "imshow(a[:,:,30,0])\n",
    "plt.figure(2)\n",
    "b = imread('./Dataset_3/Patches_64/Train/Masks/img_patch_4107.tif')\n",
    "imshow(b[:,:,30,0])\n",
    "print(b.shape)\n",
    "\n",
    "#a = a*255.0\n",
    "#a = a.astype('uint8')\n",
    "\n",
    "#imwrite('./Dataset/' + 'img_patch.tif' , a, photometric='rgb')\n",
    "\n",
    "#_b = _b*255.0\n",
    "#_b = _b.astype('uint8')\n",
    "\n",
    "#imwrite('./Dataset/' + 'mask_patch.tif' , _b, photometric='rgb')\n"
   ]
  },
  {
   "cell_type": "markdown",
   "metadata": {
    "id": "BOEIkDbOHCwa",
    "jp-MarkdownHeadingCollapsed": true,
    "tags": []
   },
   "source": [
    "# Train Model"
   ]
  },
  {
   "cell_type": "code",
   "execution_count": 2,
   "metadata": {},
   "outputs": [],
   "source": [
    "import sys  \n",
    "sys.path.insert(0, './')"
   ]
  },
  {
   "cell_type": "code",
   "execution_count": 3,
   "metadata": {
    "executionInfo": {
     "elapsed": 425,
     "status": "ok",
     "timestamp": 1658130879314,
     "user": {
      "displayName": "Alice Henriques da Rosa",
      "userId": "12243278505695630565"
     },
     "user_tz": -60
    },
    "id": "S1rpKkj8HMHr"
   },
   "outputs": [],
   "source": [
    "import data_generator_3\n",
    "from data_generator_3 import DataGenerator"
   ]
  },
  {
   "cell_type": "code",
   "execution_count": 4,
   "metadata": {
    "executionInfo": {
     "elapsed": 14,
     "status": "ok",
     "timestamp": 1658130879314,
     "user": {
      "displayName": "Alice Henriques da Rosa",
      "userId": "12243278505695630565"
     },
     "user_tz": -60
    },
    "id": "HAC4nitkHe0X"
   },
   "outputs": [],
   "source": [
    "def conv_block(inputs, num_filters):\n",
    "    x = Conv3D(num_filters, 3, padding=\"same\")(inputs)\n",
    "    x = BatchNormalization()(x)    \n",
    "    x = Activation(\"relu\")(x)\n",
    "\n",
    "    x = Conv3D(num_filters, 3, padding=\"same\")(x)\n",
    "    x = BatchNormalization()(x)\n",
    "    x = Activation(\"relu\")(x)\n",
    "\n",
    "    return x\n",
    "\n",
    "#Encoder block: Conv block followed by maxpooling\n",
    "\n",
    "def encoder_block(inputs, num_filters):\n",
    "    x = conv_block(inputs, num_filters)\n",
    "    p = MaxPooling3D((2, 2, 2))(x)\n",
    "    return x, p   \n",
    "\n",
    "#Decoder block\n",
    "#skip features gets input from encoder for concatenation\n",
    "\n",
    "def decoder_block(inputs, skip_features, num_filters):\n",
    "    x = Conv3DTranspose(num_filters, (2, 2, 2), strides=2, padding=\"same\")(inputs)\n",
    "    x = Concatenate()([x, skip_features])\n",
    "    x = conv_block(x, num_filters)\n",
    "    return x"
   ]
  },
  {
   "cell_type": "code",
   "execution_count": 5,
   "metadata": {
    "executionInfo": {
     "elapsed": 11,
     "status": "ok",
     "timestamp": 1658130879315,
     "user": {
      "displayName": "Alice Henriques da Rosa",
      "userId": "12243278505695630565"
     },
     "user_tz": -60
    },
    "id": "XpT__YK7Hi1L"
   },
   "outputs": [],
   "source": [
    "#Build Unet using the blocks\n",
    "def build_unet(input_shape, n_classes, n_filters_start=32, growth_factor=2):\n",
    "    inputs = Input(input_shape)\n",
    "    n_filters = n_filters_start\n",
    "    \n",
    "    s1, p1 = encoder_block(inputs, n_filters)\n",
    "    n_filters *= growth_factor\n",
    "    \n",
    "    s2, p2 = encoder_block(p1, n_filters)\n",
    "    n_filters *= growth_factor\n",
    "    \n",
    "    s3, p3 = encoder_block(p2, n_filters)\n",
    "    n_filters *= growth_factor\n",
    "    \n",
    "    s4, p4 = encoder_block(p3, n_filters)\n",
    "    n_filters *= growth_factor\n",
    "\n",
    "    b1 = conv_block(p4, n_filters) #Bridge\n",
    "    \n",
    "    n_filters //= growth_factor\n",
    "    d1 = decoder_block(b1, s4, n_filters)\n",
    "    \n",
    "    n_filters //= growth_factor\n",
    "    d2 = decoder_block(d1, s3, n_filters)\n",
    "    \n",
    "    n_filters //= growth_factor\n",
    "    d3 = decoder_block(d2, s2, n_filters)\n",
    "    \n",
    "    n_filters //= growth_factor\n",
    "    d4 = decoder_block(d3, s1, n_filters)\n",
    "\n",
    "    outputs = Conv3D(n_classes, 1, padding=\"same\", activation='sigmoid')(d4)\n",
    "\n",
    "    model = Model(inputs, outputs, name=\"U-Net\")\n",
    "    return model"
   ]
  },
  {
   "cell_type": "code",
   "execution_count": 6,
   "metadata": {},
   "outputs": [],
   "source": [
    "# Loss Function and coefficients to be used during training:\n",
    "def dice_coefficient(y_true, y_pred):\n",
    "    smoothing_factor = 1\n",
    "    flat_y_true = K.flatten(y_true)\n",
    "    flat_y_pred = K.flatten(y_pred)\n",
    "    return (2. * K.sum(flat_y_true * flat_y_pred) + smoothing_factor) / (K.sum(flat_y_true) + K.sum(flat_y_pred) + smoothing_factor)\n",
    "\n",
    "def dice_coefficient_loss(y_true, y_pred):\n",
    "    return 1 - dice_coefficient(y_true, y_pred)"
   ]
  },
  {
   "cell_type": "code",
   "execution_count": 9,
   "metadata": {
    "executionInfo": {
     "elapsed": 8,
     "status": "ok",
     "timestamp": 1658130879315,
     "user": {
      "displayName": "Alice Henriques da Rosa",
      "userId": "12243278505695630565"
     },
     "user_tz": -60
    },
    "id": "rxtqCh64KzXT"
   },
   "outputs": [],
   "source": [
    "def model_plots(history, plot_dir):\n",
    "  #plot the training and validation IoU and loss at each epoch\n",
    "  loss = history.history['loss']\n",
    "  val_loss = history.history['val_loss']\n",
    "  epochs = range(1, len(loss) + 1)\n",
    "\n",
    "  plt.figure(1)\n",
    "  plt.plot(epochs, loss, 'y', label='Training loss')\n",
    "  plt.plot(epochs, val_loss, 'r', label='Validation loss')\n",
    "  plt.title('Training and validation loss')\n",
    "  plt.xlabel('Epochs')\n",
    "  plt.ylabel('Loss')\n",
    "  plt.legend()\n",
    "  plt.savefig(plot_dir + '/loss_plot_3.png')\n",
    "\n",
    "  acc = history.history['dice_coefficient']\n",
    "  val_acc = history.history['val_dice_coefficient']\n",
    "\n",
    "  plt.figure(2)\n",
    "  plt.plot(epochs, acc, 'y', label='Training Dice')\n",
    "  plt.plot(epochs, val_acc, 'r', label='Validation Dice')\n",
    "  plt.title('Training and validation Dice')\n",
    "  plt.xlabel('Epochs')\n",
    "  plt.ylabel('Dice')\n",
    "  plt.legend()\n",
    "  plt.savefig(plot_dir + '/dice_plot_3.png')"
   ]
  },
  {
   "cell_type": "code",
   "execution_count": 8,
   "metadata": {
    "colab": {
     "base_uri": "https://localhost:8080/"
    },
    "id": "QFYfpKIzHp3r",
    "outputId": "fa43fc62-3f46-4ff6-c1d1-e4a21285bdf5"
   },
   "outputs": [
    {
     "name": "stderr",
     "output_type": "stream",
     "text": [
      "2022-10-10 16:10:04.257529: I tensorflow/stream_executor/cuda/cuda_gpu_executor.cc:937] successful NUMA node read from SysFS had negative value (-1), but there must be at least one NUMA node, so returning NUMA node zero\n",
      "2022-10-10 16:10:04.272990: I tensorflow/stream_executor/cuda/cuda_gpu_executor.cc:937] successful NUMA node read from SysFS had negative value (-1), but there must be at least one NUMA node, so returning NUMA node zero\n",
      "2022-10-10 16:10:04.273352: I tensorflow/stream_executor/cuda/cuda_gpu_executor.cc:937] successful NUMA node read from SysFS had negative value (-1), but there must be at least one NUMA node, so returning NUMA node zero\n",
      "2022-10-10 16:10:04.274257: I tensorflow/core/platform/cpu_feature_guard.cc:142] This TensorFlow binary is optimized with oneAPI Deep Neural Network Library (oneDNN) to use the following CPU instructions in performance-critical operations:  AVX2 FMA\n",
      "To enable them in other operations, rebuild TensorFlow with the appropriate compiler flags.\n",
      "2022-10-10 16:10:04.274669: I tensorflow/stream_executor/cuda/cuda_gpu_executor.cc:937] successful NUMA node read from SysFS had negative value (-1), but there must be at least one NUMA node, so returning NUMA node zero\n",
      "2022-10-10 16:10:04.275001: I tensorflow/stream_executor/cuda/cuda_gpu_executor.cc:937] successful NUMA node read from SysFS had negative value (-1), but there must be at least one NUMA node, so returning NUMA node zero\n",
      "2022-10-10 16:10:04.275315: I tensorflow/stream_executor/cuda/cuda_gpu_executor.cc:937] successful NUMA node read from SysFS had negative value (-1), but there must be at least one NUMA node, so returning NUMA node zero\n",
      "2022-10-10 16:10:04.690129: I tensorflow/stream_executor/cuda/cuda_gpu_executor.cc:937] successful NUMA node read from SysFS had negative value (-1), but there must be at least one NUMA node, so returning NUMA node zero\n",
      "2022-10-10 16:10:04.690298: I tensorflow/stream_executor/cuda/cuda_gpu_executor.cc:937] successful NUMA node read from SysFS had negative value (-1), but there must be at least one NUMA node, so returning NUMA node zero\n",
      "2022-10-10 16:10:04.690425: I tensorflow/stream_executor/cuda/cuda_gpu_executor.cc:937] successful NUMA node read from SysFS had negative value (-1), but there must be at least one NUMA node, so returning NUMA node zero\n",
      "2022-10-10 16:10:04.690528: I tensorflow/core/common_runtime/gpu/gpu_device.cc:1510] Created device /job:localhost/replica:0/task:0/device:GPU:0 with 7137 MB memory:  -> device: 0, name: NVIDIA GeForce GTX 1070, pci bus id: 0000:01:00.0, compute capability: 6.1\n",
      "2022-10-10 16:10:05.374542: I tensorflow/compiler/mlir/mlir_graph_optimization_pass.cc:185] None of the MLIR Optimization Passes are enabled (registered 2)\n"
     ]
    },
    {
     "name": "stdout",
     "output_type": "stream",
     "text": [
      "Epoch 1/100\n"
     ]
    },
    {
     "name": "stderr",
     "output_type": "stream",
     "text": [
      "2022-10-10 16:10:07.381214: I tensorflow/stream_executor/cuda/cuda_dnn.cc:369] Loaded cuDNN version 8101\n",
      "2022-10-10 16:10:07.563753: I tensorflow/core/platform/default/subprocess.cc:304] Start cannot spawn child process: No such file or directory\n",
      "2022-10-10 16:10:07.564135: I tensorflow/core/platform/default/subprocess.cc:304] Start cannot spawn child process: No such file or directory\n",
      "2022-10-10 16:10:07.564157: W tensorflow/stream_executor/gpu/asm_compiler.cc:77] Couldn't get ptxas version string: Internal: Couldn't invoke ptxas --version\n",
      "2022-10-10 16:10:07.564520: I tensorflow/core/platform/default/subprocess.cc:304] Start cannot spawn child process: No such file or directory\n",
      "2022-10-10 16:10:07.564566: W tensorflow/stream_executor/gpu/redzone_allocator.cc:314] Internal: Failed to launch ptxas\n",
      "Relying on driver to perform ptx compilation. \n",
      "Modify $PATH to customize ptxas location.\n",
      "This message will be only logged once.\n"
     ]
    },
    {
     "name": "stdout",
     "output_type": "stream",
     "text": [
      "131/131 [==============================] - 102s 747ms/step - loss: 2.6951 - dice_coefficient: 0.1015 - val_loss: 2.8557 - val_dice_coefficient: 0.0436\n"
     ]
    },
    {
     "name": "stderr",
     "output_type": "stream",
     "text": [
      "2022-10-10 16:11:50.463853: W tensorflow/python/util/util.cc:348] Sets are not currently considered sequences, but this may change in the future, so consider avoiding using them.\n"
     ]
    },
    {
     "name": "stdout",
     "output_type": "stream",
     "text": [
      "INFO:tensorflow:Assets written to: ./Models_UNET/assets\n",
      "Epoch 2/100\n",
      "131/131 [==============================] - 99s 756ms/step - loss: 2.6051 - dice_coefficient: 0.1177 - val_loss: 2.6358 - val_dice_coefficient: 0.1027\n",
      "INFO:tensorflow:Assets written to: ./Models_UNET/assets\n",
      "Epoch 3/100\n",
      "131/131 [==============================] - 104s 791ms/step - loss: 2.5686 - dice_coefficient: 0.1240 - val_loss: 2.6091 - val_dice_coefficient: 0.1112\n",
      "INFO:tensorflow:Assets written to: ./Models_UNET/assets\n",
      "Epoch 4/100\n",
      "131/131 [==============================] - 105s 804ms/step - loss: 2.5326 - dice_coefficient: 0.1320 - val_loss: 2.6416 - val_dice_coefficient: 0.0988\n",
      "INFO:tensorflow:Assets written to: ./Models_UNET/assets\n",
      "Epoch 5/100\n",
      "131/131 [==============================] - 105s 806ms/step - loss: 2.4906 - dice_coefficient: 0.1414 - val_loss: 2.5649 - val_dice_coefficient: 0.1178\n",
      "INFO:tensorflow:Assets written to: ./Models_UNET/assets\n",
      "Epoch 6/100\n",
      "131/131 [==============================] - 105s 806ms/step - loss: 2.4457 - dice_coefficient: 0.1530 - val_loss: 2.5451 - val_dice_coefficient: 0.1252\n",
      "INFO:tensorflow:Assets written to: ./Models_UNET/assets\n",
      "Epoch 7/100\n",
      "131/131 [==============================] - 106s 813ms/step - loss: 2.4020 - dice_coefficient: 0.1653 - val_loss: 2.4834 - val_dice_coefficient: 0.1422\n",
      "INFO:tensorflow:Assets written to: ./Models_UNET/assets\n",
      "Epoch 8/100\n",
      "131/131 [==============================] - 105s 805ms/step - loss: 2.3453 - dice_coefficient: 0.1803 - val_loss: 2.4171 - val_dice_coefficient: 0.1645\n",
      "INFO:tensorflow:Assets written to: ./Models_UNET/assets\n",
      "Epoch 9/100\n",
      "131/131 [==============================] - 105s 804ms/step - loss: 2.2972 - dice_coefficient: 0.1945 - val_loss: 2.3900 - val_dice_coefficient: 0.1536\n",
      "INFO:tensorflow:Assets written to: ./Models_UNET/assets\n",
      "Epoch 10/100\n",
      "131/131 [==============================] - 110s 838ms/step - loss: 2.2452 - dice_coefficient: 0.2088 - val_loss: 2.2543 - val_dice_coefficient: 0.2196\n",
      "INFO:tensorflow:Assets written to: ./Models_UNET/assets\n",
      "Epoch 11/100\n",
      "131/131 [==============================] - 109s 831ms/step - loss: 2.1731 - dice_coefficient: 0.2310 - val_loss: 2.3604 - val_dice_coefficient: 0.1566\n",
      "INFO:tensorflow:Assets written to: ./Models_UNET/assets\n",
      "Epoch 12/100\n",
      "131/131 [==============================] - 109s 834ms/step - loss: 2.0463 - dice_coefficient: 0.2879 - val_loss: 2.1094 - val_dice_coefficient: 0.2864\n",
      "INFO:tensorflow:Assets written to: ./Models_UNET/assets\n",
      "Epoch 13/100\n",
      "131/131 [==============================] - 110s 838ms/step - loss: 1.8909 - dice_coefficient: 0.3500 - val_loss: 1.8978 - val_dice_coefficient: 0.3673\n",
      "INFO:tensorflow:Assets written to: ./Models_UNET/assets\n",
      "Epoch 14/100\n",
      "131/131 [==============================] - 109s 835ms/step - loss: 1.6960 - dice_coefficient: 0.4181 - val_loss: 1.9226 - val_dice_coefficient: 0.3461\n",
      "INFO:tensorflow:Assets written to: ./Models_UNET/assets\n",
      "Epoch 15/100\n",
      "131/131 [==============================] - 109s 836ms/step - loss: 1.4677 - dice_coefficient: 0.4954 - val_loss: 1.6449 - val_dice_coefficient: 0.4355\n",
      "INFO:tensorflow:Assets written to: ./Models_UNET/assets\n",
      "Epoch 16/100\n",
      "131/131 [==============================] - 110s 838ms/step - loss: 1.3223 - dice_coefficient: 0.5459 - val_loss: 1.6404 - val_dice_coefficient: 0.4361\n",
      "INFO:tensorflow:Assets written to: ./Models_UNET/assets\n",
      "Epoch 17/100\n",
      "131/131 [==============================] - 109s 836ms/step - loss: 1.1683 - dice_coefficient: 0.5974 - val_loss: 1.5253 - val_dice_coefficient: 0.4686\n",
      "INFO:tensorflow:Assets written to: ./Models_UNET/assets\n",
      "Epoch 18/100\n",
      "131/131 [==============================] - 110s 839ms/step - loss: 1.0195 - dice_coefficient: 0.6521 - val_loss: 1.3380 - val_dice_coefficient: 0.5332\n",
      "INFO:tensorflow:Assets written to: ./Models_UNET/assets\n",
      "Epoch 19/100\n",
      "131/131 [==============================] - 109s 837ms/step - loss: 0.9267 - dice_coefficient: 0.6823 - val_loss: 1.1177 - val_dice_coefficient: 0.6297\n",
      "INFO:tensorflow:Assets written to: ./Models_UNET/assets\n",
      "Epoch 20/100\n",
      "131/131 [==============================] - 151s 1s/step - loss: 0.8230 - dice_coefficient: 0.7186 - val_loss: 1.0537 - val_dice_coefficient: 0.6642\n",
      "INFO:tensorflow:Assets written to: ./Models_UNET/assets\n",
      "Epoch 21/100\n",
      "131/131 [==============================] - 351s 3s/step - loss: 0.8193 - dice_coefficient: 0.7254 - val_loss: 1.1801 - val_dice_coefficient: 0.6062\n",
      "INFO:tensorflow:Assets written to: ./Models_UNET/assets\n",
      "Epoch 22/100\n",
      "131/131 [==============================] - 283s 2s/step - loss: 0.7654 - dice_coefficient: 0.7460 - val_loss: 0.9107 - val_dice_coefficient: 0.7089\n",
      "INFO:tensorflow:Assets written to: ./Models_UNET/assets\n",
      "Epoch 23/100\n",
      "131/131 [==============================] - 108s 824ms/step - loss: 0.7303 - dice_coefficient: 0.7526 - val_loss: 0.9699 - val_dice_coefficient: 0.6871\n",
      "INFO:tensorflow:Assets written to: ./Models_UNET/assets\n",
      "Epoch 24/100\n",
      "131/131 [==============================] - 107s 820ms/step - loss: 0.7167 - dice_coefficient: 0.7618 - val_loss: 0.8601 - val_dice_coefficient: 0.7400\n",
      "INFO:tensorflow:Assets written to: ./Models_UNET/assets\n",
      "Epoch 25/100\n",
      "131/131 [==============================] - 108s 828ms/step - loss: 0.7268 - dice_coefficient: 0.7568 - val_loss: 0.9695 - val_dice_coefficient: 0.6941\n",
      "INFO:tensorflow:Assets written to: ./Models_UNET/assets\n",
      "Epoch 26/100\n",
      "131/131 [==============================] - 109s 832ms/step - loss: 0.6633 - dice_coefficient: 0.7791 - val_loss: 0.9357 - val_dice_coefficient: 0.6982\n",
      "INFO:tensorflow:Assets written to: ./Models_UNET/assets\n",
      "Epoch 27/100\n",
      "131/131 [==============================] - 109s 835ms/step - loss: 0.6048 - dice_coefficient: 0.7970 - val_loss: 0.8759 - val_dice_coefficient: 0.7173\n",
      "INFO:tensorflow:Assets written to: ./Models_UNET/assets\n",
      "Epoch 28/100\n",
      "131/131 [==============================] - 109s 834ms/step - loss: 0.6533 - dice_coefficient: 0.7848 - val_loss: 0.9473 - val_dice_coefficient: 0.6977\n",
      "INFO:tensorflow:Assets written to: ./Models_UNET/assets\n",
      "Epoch 29/100\n",
      "131/131 [==============================] - 109s 833ms/step - loss: 0.6264 - dice_coefficient: 0.7932 - val_loss: 0.7989 - val_dice_coefficient: 0.7482\n",
      "INFO:tensorflow:Assets written to: ./Models_UNET/assets\n",
      "Epoch 30/100\n",
      "131/131 [==============================] - 109s 834ms/step - loss: 0.6089 - dice_coefficient: 0.7945 - val_loss: 0.8643 - val_dice_coefficient: 0.7241\n",
      "INFO:tensorflow:Assets written to: ./Models_UNET/assets\n",
      "Epoch 31/100\n",
      "131/131 [==============================] - 110s 839ms/step - loss: 0.6058 - dice_coefficient: 0.7961 - val_loss: 0.7943 - val_dice_coefficient: 0.7514\n",
      "INFO:tensorflow:Assets written to: ./Models_UNET/assets\n",
      "Epoch 32/100\n",
      "131/131 [==============================] - 110s 839ms/step - loss: 0.5702 - dice_coefficient: 0.8122 - val_loss: 0.9577 - val_dice_coefficient: 0.6849\n",
      "INFO:tensorflow:Assets written to: ./Models_UNET/assets\n",
      "Epoch 33/100\n",
      "131/131 [==============================] - 110s 839ms/step - loss: 0.5702 - dice_coefficient: 0.8095 - val_loss: 0.8037 - val_dice_coefficient: 0.7512\n",
      "INFO:tensorflow:Assets written to: ./Models_UNET/assets\n",
      "Epoch 34/100\n",
      "131/131 [==============================] - 110s 842ms/step - loss: 0.5459 - dice_coefficient: 0.8180 - val_loss: 0.6847 - val_dice_coefficient: 0.7927\n",
      "INFO:tensorflow:Assets written to: ./Models_UNET/assets\n",
      "Epoch 35/100\n",
      "131/131 [==============================] - 110s 839ms/step - loss: 0.5841 - dice_coefficient: 0.8023 - val_loss: 0.7707 - val_dice_coefficient: 0.7609\n",
      "INFO:tensorflow:Assets written to: ./Models_UNET/assets\n",
      "Epoch 36/100\n",
      "131/131 [==============================] - 110s 838ms/step - loss: 0.5410 - dice_coefficient: 0.8203 - val_loss: 0.9006 - val_dice_coefficient: 0.7045\n",
      "INFO:tensorflow:Assets written to: ./Models_UNET/assets\n",
      "Epoch 37/100\n",
      "131/131 [==============================] - 109s 835ms/step - loss: 0.5770 - dice_coefficient: 0.8067 - val_loss: 0.7556 - val_dice_coefficient: 0.7701\n",
      "INFO:tensorflow:Assets written to: ./Models_UNET/assets\n",
      "Epoch 38/100\n",
      "131/131 [==============================] - 110s 840ms/step - loss: 0.5360 - dice_coefficient: 0.8215 - val_loss: 0.7573 - val_dice_coefficient: 0.7674\n",
      "INFO:tensorflow:Assets written to: ./Models_UNET/assets\n",
      "Epoch 39/100\n",
      "131/131 [==============================] - 110s 840ms/step - loss: 0.5274 - dice_coefficient: 0.8262 - val_loss: 0.8205 - val_dice_coefficient: 0.7477\n",
      "INFO:tensorflow:Assets written to: ./Models_UNET/assets\n",
      "Epoch 40/100\n",
      "131/131 [==============================] - 110s 838ms/step - loss: 0.5388 - dice_coefficient: 0.8201 - val_loss: 0.7462 - val_dice_coefficient: 0.7671\n",
      "INFO:tensorflow:Assets written to: ./Models_UNET/assets\n",
      "Epoch 41/100\n",
      "131/131 [==============================] - 110s 837ms/step - loss: 0.5587 - dice_coefficient: 0.8148 - val_loss: 0.7399 - val_dice_coefficient: 0.7680\n",
      "INFO:tensorflow:Assets written to: ./Models_UNET/assets\n",
      "Epoch 42/100\n",
      "131/131 [==============================] - 110s 842ms/step - loss: 0.5260 - dice_coefficient: 0.8290 - val_loss: 0.8298 - val_dice_coefficient: 0.7379\n",
      "INFO:tensorflow:Assets written to: ./Models_UNET/assets\n",
      "Epoch 43/100\n",
      "131/131 [==============================] - 110s 842ms/step - loss: 0.5131 - dice_coefficient: 0.8334 - val_loss: 0.7727 - val_dice_coefficient: 0.7702\n",
      "INFO:tensorflow:Assets written to: ./Models_UNET/assets\n",
      "Epoch 44/100\n",
      "131/131 [==============================] - 110s 841ms/step - loss: 0.5001 - dice_coefficient: 0.8312 - val_loss: 0.7467 - val_dice_coefficient: 0.7752\n",
      "INFO:tensorflow:Assets written to: ./Models_UNET/assets\n"
     ]
    }
   ],
   "source": [
    "batch_size = 4\n",
    "\n",
    "traingen = DataGenerator('Train', batch_size=batch_size, img_size=(64,64,64,3), mask_size=(64,64,64,3))\n",
    "\n",
    "valgen = DataGenerator('Validation', batch_size=batch_size, img_size=(64,64,64,3), mask_size=(64,64,64,3))\n",
    "\n",
    "#Define parameters for our model.\n",
    "\n",
    "patch_size = (64,64,64,3)\n",
    "\n",
    "LR = 0.0001\n",
    "optim = Adam(LR,amsgrad=True)\n",
    "\n",
    "model = build_unet(patch_size, n_classes=3)\n",
    "\n",
    "#for layer in model.layers:\n",
    "#    print(layer.output_shape)\n",
    "\n",
    "early_stopping = tf.keras.callbacks.EarlyStopping(monitor='val_loss', patience=10, restore_best_weights=True)\n",
    "\n",
    "model.compile(optimizer = optim, loss=dice_coefficient_loss, metrics=dice_coefficient)\n",
    "\n",
    "checkpoint = ModelCheckpoint('./Models_UNET')\n",
    "\n",
    "#Fit the model\n",
    "history = model.fit(traingen,\n",
    "         validation_data=valgen,\n",
    "         epochs=100, verbose=1, callbacks=[early_stopping, checkpoint])"
   ]
  },
  {
   "cell_type": "code",
   "execution_count": 10,
   "metadata": {
    "id": "O2Gf7hKKLTN4"
   },
   "outputs": [
    {
     "data": {
      "image/png": "[encoded data removed]",
      "text/plain": [
       "<Figure size 432x288 with 1 Axes>"
      ]
     },
     "metadata": {
      "needs_background": "light"
     },
     "output_type": "display_data"
    },
    {
     "data": {
      "image/png": "[encoded data removed]",
      "text/plain": [
       "<Figure size 432x288 with 1 Axes>"
      ]
     },
     "metadata": {
      "needs_background": "light"
     },
     "output_type": "display_data"
    }
   ],
   "source": [
    "plot_dir = './Dataset_3/Model_Plots'\n",
    "#os.mkdir(plot_dir)\n",
    "\n",
    "model_plots(history, plot_dir)\n",
    "\n",
    "model.save('./Models_UNET/UNET_3D_Final_3channel_1.h5')"
   ]
  },
  {
   "cell_type": "markdown",
   "metadata": {
    "id": "0jo10diKU-pA",
    "tags": []
   },
   "source": [
    "# Test Model"
   ]
  },
  {
   "cell_type": "code",
   "execution_count": 11,
   "metadata": {
    "executionInfo": {
     "elapsed": 6,
     "status": "ok",
     "timestamp": 1658152250275,
     "user": {
      "displayName": "Alice Henriques da Rosa",
      "userId": "12243278505695630565"
     },
     "user_tz": -60
    },
    "id": "B0ReQm93MmH-"
   },
   "outputs": [],
   "source": [
    "def padding(image,size):\n",
    "\n",
    "    img_reshape = np.moveaxis(image, -1, 0)\n",
    "    \n",
    "    m = ReflectionPad3d((0,size[2]-image.shape[2],0,size[1]-image.shape[1],0,size[0]-image.shape[0]))\n",
    "    input = torch.tensor(img_reshape, dtype=torch.float)\n",
    "    output = m(input)\n",
    "    pad_img = output.numpy()\n",
    "    pad_img = np.moveaxis(pad_img, 0, -1)\n",
    "    \n",
    "    return pad_img"
   ]
  },
  {
   "cell_type": "code",
   "execution_count": 12,
   "metadata": {
    "executionInfo": {
     "elapsed": 4,
     "status": "ok",
     "timestamp": 1658152250275,
     "user": {
      "displayName": "Alice Henriques da Rosa",
      "userId": "12243278505695630565"
     },
     "user_tz": -60
    },
    "id": "GPru8VvKjg6O"
   },
   "outputs": [],
   "source": [
    "def thresholding(patch_prediction):\n",
    "    patch_ind_nuclei = np.argwhere(patch_prediction[:,:,:,0] > 0.5)\n",
    "    patch_ind_golgi = np.argwhere(patch_prediction[:,:,:,1] > 0.5)\n",
    "    patch_ind_int = np.argwhere(patch_prediction[:,:,:,2] > 0.5)\n",
    "\n",
    "    patch_prediction_thr = np.zeros((patch_prediction.shape[0],patch_prediction.shape[1],patch_prediction.shape[2],3))\n",
    "\n",
    "    for i in range(patch_ind_nuclei.shape[0]):\n",
    "        patch_prediction_thr[patch_ind_nuclei[i,0],patch_ind_nuclei[i,1],patch_ind_nuclei[i,2],0]=1 \n",
    "\n",
    "    for j in range(patch_ind_golgi.shape[0]):\n",
    "        patch_prediction_thr[patch_ind_golgi[j,0],patch_ind_golgi[j,1],patch_ind_golgi[j,2],1]=1\n",
    "    \n",
    "    for k in range(patch_ind_int.shape[0]):\n",
    "        patch_prediction_thr[patch_ind_int[k,0],patch_ind_int[k,1],patch_ind_int[k,2],2]=1\n",
    "\n",
    "    return patch_prediction_thr"
   ]
  },
  {
   "cell_type": "code",
   "execution_count": 13,
   "metadata": {
    "executionInfo": {
     "elapsed": 5,
     "status": "ok",
     "timestamp": 1658152250276,
     "user": {
      "displayName": "Alice Henriques da Rosa",
      "userId": "12243278505695630565"
     },
     "user_tz": -60
    },
    "id": "gJ46thbyjmGE"
   },
   "outputs": [],
   "source": [
    "def pred_mask(image, mask_shape):\n",
    "  patch_size = 64\n",
    "  step = 48\n",
    "\n",
    "  pred_mask = np.zeros(((image.shape[0] // step)*step + patch_size,(image.shape[1] // step)*step + patch_size,64,3))\n",
    "  _image = padding(image, ((image.shape[0] // step)*step + patch_size,(image.shape[1] // step)*step + patch_size,64,3))\n",
    "\n",
    "  i = 0\n",
    "  while i + patch_size <= _image.shape[0]:\n",
    "    j = 0\n",
    "    while j + patch_size <= _image.shape[1]:\n",
    "\n",
    "        tst_patch = _image[i:i+patch_size, j:j+patch_size, :, :]\n",
    "        tst_patch = np.array([tst_patch / 255.])\n",
    "        preds_tst = my_model.predict(tst_patch)\n",
    "        pred_patch = preds_tst[0,:,:,:,:]\n",
    "        pred_patch_thr = thresholding(pred_patch)\n",
    "\n",
    "        pred_mask[i:i+patch_size, j:j+patch_size,:,0] = np.array(np.logical_or(pred_mask[i:i+patch_size, j:j+patch_size, :,0], pred_patch_thr[:,:,:,0], dtype = 'float32'))\n",
    "        pred_mask[i:i+patch_size, j:j+patch_size,:,1] = np.array(np.logical_or(pred_mask[i:i+patch_size, j:j+patch_size, :,1], pred_patch_thr[:,:,:,1], dtype = 'float32'))\n",
    "        pred_mask[i:i+patch_size, j:j+patch_size,:,2] = np.array(np.logical_or(pred_mask[i:i+patch_size, j:j+patch_size, :,2], pred_patch_thr[:,:,:,2], dtype = 'float32'))\n",
    "\n",
    "        j += step\n",
    "        \n",
    "    i += step\n",
    "    \n",
    "  _pred_mask = np.zeros(mask_shape)\n",
    "  _pred_mask = pred_mask[0:mask_shape[0],0:mask_shape[1],0:mask_shape[2],:]\n",
    "\n",
    "  return _pred_mask, _image\n"
   ]
  },
  {
   "cell_type": "code",
   "execution_count": 14,
   "metadata": {
    "executionInfo": {
     "elapsed": 5,
     "status": "ok",
     "timestamp": 1658152250276,
     "user": {
      "displayName": "Alice Henriques da Rosa",
      "userId": "12243278505695630565"
     },
     "user_tz": -60
    },
    "id": "DFmP8V_AoH1Z"
   },
   "outputs": [],
   "source": [
    "def dice_coefficient(y_true, y_pred):\n",
    "    smoothing_factor = 1\n",
    "    flat_y_true = K.flatten(y_true)\n",
    "    flat_y_pred = K.flatten(y_pred)\n",
    "    return (2. * K.sum(flat_y_true * flat_y_pred) + smoothing_factor) / (K.sum(flat_y_true) + K.sum(flat_y_pred) + smoothing_factor)\n",
    "\n",
    "def precision(y_true, y_pred):\n",
    "    flat_y_true = K.flatten(y_true)\n",
    "    flat_y_pred = K.flatten(y_pred)\n",
    "    return(K.sum(flat_y_true * flat_y_pred) / K.sum(flat_y_pred) )\n",
    "\n",
    "def recall(y_true, y_pred):\n",
    "    flat_y_true = K.flatten(y_true)\n",
    "    flat_y_pred = K.flatten(y_pred)\n",
    "    return(K.sum(flat_y_true * flat_y_pred) / K.sum(flat_y_true) )"
   ]
  },
  {
   "cell_type": "code",
   "execution_count": 15,
   "metadata": {
    "executionInfo": {
     "elapsed": 5,
     "status": "ok",
     "timestamp": 1658152250276,
     "user": {
      "displayName": "Alice Henriques da Rosa",
      "userId": "12243278505695630565"
     },
     "user_tz": -60
    },
    "id": "sA-WhfK-n4Bi"
   },
   "outputs": [],
   "source": [
    "def metrics(mask, _pred_mask):\n",
    "  _mask = mask/255.\n",
    "\n",
    "  dice_coef_int = dice_coefficient(_mask[:,:,:,2],_pred_mask[:,:,:,2])\n",
    "  dice_coef_nuclei = dice_coefficient(_mask[:,:,:,1],_pred_mask[:,:,:,1])\n",
    "  dice_coef_golgi = dice_coefficient(_mask[:,:,:,0],_pred_mask[:,:,:,0])\n",
    "  prec_int = precision(_mask[:,:,:,2],_pred_mask[:,:,:,2])\n",
    "  prec_nuclei = precision(_mask[:,:,:,1],_pred_mask[:,:,:,1])\n",
    "  prec_golgi = precision(_mask[:,:,:,0],_pred_mask[:,:,:,0])\n",
    "  recall_int = recall(_mask[:,:,:,2],_pred_mask[:,:,:,2])\n",
    "  recall_nuclei = recall(_mask[:,:,:,1],_pred_mask[:,:,:,1])\n",
    "  recall_golgi = recall(_mask[:,:,:,0],_pred_mask[:,:,:,0])\n",
    "\n",
    "  return [round(dice_coef_nuclei.numpy(),4), round(dice_coef_golgi.numpy(),4),round(dice_coef_int.numpy(),4), \n",
    "          round(prec_nuclei.numpy(),4), round(prec_golgi.numpy(),4),round(prec_int.numpy(),4), round(recall_nuclei.numpy(),4),\n",
    "          round(recall_golgi.numpy(),4), round(recall_int.numpy(),4)]\n"
   ]
  },
  {
   "cell_type": "code",
   "execution_count": 16,
   "metadata": {
    "executionInfo": {
     "elapsed": 4,
     "status": "ok",
     "timestamp": 1658152250276,
     "user": {
      "displayName": "Alice Henriques da Rosa",
      "userId": "12243278505695630565"
     },
     "user_tz": -60
    },
    "id": "ibv8vCO1phS6"
   },
   "outputs": [],
   "source": [
    "def write_to_excel(wb,sheet_name,metrics, result_dir):\n",
    "\n",
    "  # add_sheet is used to create sheet.\n",
    "  sheet1 = wb.add_sheet(sheet_name)\n",
    "\n",
    "  sheet1.write(0, 0, 'Dice Coeffient Nuclei')\n",
    "  sheet1.write(0, 1, 'Dice Coeffient Golgi')\n",
    "  sheet1.write(0, 2, 'Dice Coeffient Intersection')\n",
    "  sheet1.write(0, 3, 'Precision Nuclei')\n",
    "  sheet1.write(0, 4, 'Precision Golgi')\n",
    "  sheet1.write(0, 5, 'Precision Intersection')\n",
    "  sheet1.write(0, 6, 'Recall Nuclei')\n",
    "  sheet1.write(0, 7, 'Recall Golgi')\n",
    "  sheet1.write(0, 8, 'Recall Intersection')\n",
    "  sheet1.write(1, 0, metrics[0])\n",
    "  sheet1.write(1, 1, metrics[1])\n",
    "  sheet1.write(1, 2, metrics[2])\n",
    "  sheet1.write(1, 3, metrics[3])\n",
    "  sheet1.write(1, 4, metrics[4])\n",
    "  sheet1.write(1, 5, metrics[5])\n",
    "  sheet1.write(1, 6, metrics[6])\n",
    "  sheet1.write(1, 7, metrics[7])\n",
    "  sheet1.write(1, 8, metrics[8])\n",
    "\n",
    "  wb.save(result_dir + '/results_metrics.xlsx')\n"
   ]
  },
  {
   "cell_type": "code",
   "execution_count": 17,
   "metadata": {
    "executionInfo": {
     "elapsed": 5,
     "status": "ok",
     "timestamp": 1658152250277,
     "user": {
      "displayName": "Alice Henriques da Rosa",
      "userId": "12243278505695630565"
     },
     "user_tz": -60
    },
    "id": "n9uc6Ce8VI1G"
   },
   "outputs": [],
   "source": [
    "def test_model(base_dir):\n",
    "\n",
    "  fnames = os.listdir(base_dir + 'Images/')\n",
    "\n",
    "  # Workbook is created\n",
    "  wb = Workbook()\n",
    "\n",
    "  result_dir = './Dataset_3/Results_UNET'\n",
    "  if os.path.exists(result_dir)==False:\n",
    "        os.mkdir(result_dir)\n",
    "\n",
    "  for i in range(len(fnames)):\n",
    "\n",
    "    image = imread(base_dir + 'Images/' + fnames[i])\n",
    "    mask = imread(base_dir + 'Masks/' + fnames[i])\n",
    "\n",
    "    predicted_mask, img_tst = pred_mask(image, image.shape)\n",
    "\n",
    "    _predicted_mask = predicted_mask*255.0\n",
    "    _predicted_mask = _predicted_mask.astype('uint8')\n",
    "\n",
    "    imwrite(result_dir + '/pred_mask_' + fnames[i] , _predicted_mask, photometric='rgb')\n",
    "\n",
    "    _metrics = metrics(mask, predicted_mask)\n",
    "\n",
    "    write_to_excel(wb,'Sheet_' + fnames[i].split('.')[0], _metrics, result_dir)\n",
    "    \n",
    "  return img_tst"
   ]
  },
  {
   "cell_type": "code",
   "execution_count": 18,
   "metadata": {
    "colab": {
     "base_uri": "https://localhost:8080/"
    },
    "executionInfo": {
     "elapsed": 108840,
     "status": "ok",
     "timestamp": 1658152359112,
     "user": {
      "displayName": "Alice Henriques da Rosa",
      "userId": "12243278505695630565"
     },
     "user_tz": -60
    },
    "id": "U7A8LNI3UjEw",
    "outputId": "d360c63d-8912-41da-c7cf-71f9338adb40"
   },
   "outputs": [],
   "source": [
    "#Load the pretrained model for testing and predictions. \n",
    "from keras.models import load_model\n",
    "my_model = load_model('./Models_UNET/UNET_3D_Final_3channel_1.h5', compile=False)\n",
    "#If you load a different model do not forget to preprocess accordingly. \n",
    "\n",
    "base_dir = './Dataset_3/Patches_64/Test/'\n",
    "\n",
    "img_tst = test_model(base_dir)"
   ]
  },
  {
   "cell_type": "code",
   "execution_count": null,
   "metadata": {},
   "outputs": [],
   "source": []
  }
 ],
 "metadata": {
  "accelerator": "GPU",
  "colab": {
   "authorship_tag": "ABX9TyMCoZ9E6WebA4gMjbK0LR0c",
   "collapsed_sections": [
    "VwaQQzuolLUu"
   ],
   "name": "3D-UNet-2_0.ipynb",
   "provenance": []
  },
  "gpuClass": "standard",
  "kernelspec": {
   "display_name": "Python 3 (ipykernel)",
   "language": "python",
   "name": "python3"
  },
  "language_info": {
   "codemirror_mode": {
    "name": "ipython",
    "version": 3
   },
   "file_extension": ".py",
   "mimetype": "text/x-python",
   "name": "python",
   "nbconvert_exporter": "python",
   "pygments_lexer": "ipython3",
   "version": "3.9.10"
  }
 },
 "nbformat": 4,
 "nbformat_minor": 4
}
